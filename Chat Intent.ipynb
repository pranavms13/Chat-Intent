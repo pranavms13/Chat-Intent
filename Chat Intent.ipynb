{
 "cells": [
  {
   "cell_type": "code",
   "execution_count": 24,
   "metadata": {},
   "outputs": [
    {
     "name": "stdout",
     "output_type": "stream",
     "text": [
      "Enter the Chat : jump from terrace\n",
      "Sentence : jump from terrace\n",
      "\n",
      "Processed Details :\n",
      "jump jump NOUN ROOT False\n",
      "from from ADP prep True\n",
      "terrace terrace NOUN pobj False\n",
      "Verbs : []\n",
      "Noun : [jump, terrace]\n",
      "\n",
      "Intent : jumpterrace\n"
     ]
    }
   ],
   "source": [
    "import spacy\n",
    "\n",
    "nlp = spacy.load(\"en\")\n",
    "\n",
    "#text = \"turn off light1\"\n",
    "text = input(\"Enter the Chat : \")\n",
    "doc = nlp(text)\n",
    "print(\"Sentence : \" + doc.text + \"\\n\")\n",
    "print(\"Processed Details :\")\n",
    "\n",
    "for token in doc:\n",
    "    print(token.text, token.lemma_, token.pos_, token.dep_, token.is_stop)\n",
    "\n",
    "verbs = []\n",
    "adj = []\n",
    "noun = []\n",
    "intent = \"\"\n",
    "for token in doc:\n",
    "    if(token.pos_ == 'VERB'):\n",
    "        verbs.append(token)\n",
    "    if(token.pos_ == 'ADJ'):\n",
    "        adj.append(token)\n",
    "    if(token.pos_ == 'NOUN'):\n",
    "        noun.append(token)\n",
    "    \n",
    "print(\"Verbs : \" + str(verbs))\n",
    "print(\"Noun : \" + str(noun))\n",
    "for i in range(len(verbs)):\n",
    "    intent = intent + str(verbs[i])\n",
    "\n",
    "for j in range(len(noun)):\n",
    "    intent = intent + str(noun[j])\n",
    "    \n",
    "print()\n",
    "print(\"Intent : \" + intent)"
   ]
  },
  {
   "cell_type": "code",
   "execution_count": null,
   "metadata": {},
   "outputs": [],
   "source": []
  }
 ],
 "metadata": {
  "kernelspec": {
   "display_name": "Python 3",
   "language": "python",
   "name": "python3"
  },
  "language_info": {
   "codemirror_mode": {
    "name": "ipython",
    "version": 3
   },
   "file_extension": ".py",
   "mimetype": "text/x-python",
   "name": "python",
   "nbconvert_exporter": "python",
   "pygments_lexer": "ipython3",
   "version": "3.7.3"
  }
 },
 "nbformat": 4,
 "nbformat_minor": 2
}
