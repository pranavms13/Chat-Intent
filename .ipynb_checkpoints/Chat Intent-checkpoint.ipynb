{
 "cells": [
  {
   "cell_type": "code",
   "execution_count": 5,
   "metadata": {},
   "outputs": [
    {
     "name": "stdout",
     "output_type": "stream",
     "text": [
      "Sentence : i need a book\n",
      "\n",
      "Processed Details :\n",
      "i i PRON nsubj True\n",
      "need need VERB ROOT False\n",
      "a a DET det True\n",
      "book book NOUN dobj False\n",
      "Verbs : [need]\n",
      "Adj : []\n"
     ]
    }
   ],
   "source": [
    "import spacy\n",
    "\n",
    "nlp = spacy.load(\"en\")\n",
    "\n",
    "text = \"i need a book\"\n",
    "doc = nlp(text)\n",
    "print(\"Sentence : \" + doc.text + \"\\n\")\n",
    "print(\"Processed Details :\")\n",
    "\n",
    "for token in doc:\n",
    "    print(token.text, token.lemma_, token.pos_, token.dep_, token.is_stop)\n",
    "\n",
    "verbs = []\n",
    "adj = []\n",
    "for token in doc:\n",
    "    if(token.pos_ == 'VERB'):\n",
    "        verbs.append(token)\n",
    "    if(token.pos_ == 'ADJ'):\n",
    "        adj.append(token)\n",
    "    \n",
    "print(\"Verbs : \" + str(verbs))\n",
    "print(\"Adj : \" + str(adj))"
   ]
  },
  {
   "cell_type": "code",
   "execution_count": null,
   "metadata": {},
   "outputs": [],
   "source": []
  }
 ],
 "metadata": {
  "kernelspec": {
   "display_name": "Python 3",
   "language": "python",
   "name": "python3"
  },
  "language_info": {
   "codemirror_mode": {
    "name": "ipython",
    "version": 3
   },
   "file_extension": ".py",
   "mimetype": "text/x-python",
   "name": "python",
   "nbconvert_exporter": "python",
   "pygments_lexer": "ipython3",
   "version": "3.7.3"
  }
 },
 "nbformat": 4,
 "nbformat_minor": 2
}
